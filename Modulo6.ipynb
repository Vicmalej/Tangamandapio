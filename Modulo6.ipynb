!pip install yfinance
!pip install matplotlib
# !pip install pandas==1.3.3
