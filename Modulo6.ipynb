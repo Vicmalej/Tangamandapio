{
 "cells": [
  {
   "cell_type": "markdown",
   "id": "995dce02-47c4-4e39-b5c8-e0627bea19ae",
   "metadata": {},
   "source": [
    "#Tools for Data Science "
   ]
  },
  {
   "cell_type": "markdown",
   "id": "403611eb-08f2-4a05-9a33-c4082ddb8c2d",
   "metadata": {},
   "source": [
    "En este documento se listan una serie de elementos que se utilizan en ciencia de datos"
   ]
  },
  {
   "cell_type": "markdown",
   "id": "7c7dda0d-7598-416d-9b44-bc14fbe4f35b",
   "metadata": {},
   "source": [
    "**Objetivos:**\n",
    "- Lenguajes más utilizados en la ciencia de datos\n",
    "- Librerías más populares entre usuarios\n",
    "- Lista de herramientas más utilizadas\n",
    "- Uso de código en Python para operaciones"
   ]
  },
  {
   "cell_type": "markdown",
   "id": "bc35b67b-3eed-493b-b012-012481a033f0",
   "metadata": {},
   "source": [
    "Los lenguajes más utilizados en la ciencia de datos son:\n",
    "1. Python\n",
    "2. R\n",
    "3. SQL"
   ]
  },
  {
   "cell_type": "markdown",
   "id": "f55e89a7-1df0-4de9-9199-97edb5475d7d",
   "metadata": {},
   "source": [
    "Librerías más populares:\n",
    "1. Pandas\n",
    "2. Matplotlib\n",
    "3. TensorFlow"
   ]
  },
  {
   "cell_type": "markdown",
   "id": "f88b04ba-fb9c-4872-959f-db04dd8c18d8",
   "metadata": {},
   "source": [
    "| Lista de herramientas para la ciencia de datos |\n",
    "| ------------------ |\n",
    "| Jupyter Notebooks |\n",
    "| GitHub |\n",
    "| Anaconda |"
   ]
  },
  {
   "cell_type": "markdown",
   "id": "5456d556-b1c8-4df3-bd77-0e87c374a281",
   "metadata": {},
   "source": [
    "### Uso de código en Python para operaciones"
   ]
  },
  {
   "cell_type": "code",
   "execution_count": 10,
   "id": "f19576b5-af1b-40bf-b33a-f8046f99d4ef",
   "metadata": {},
   "outputs": [
    {
     "data": {
      "text/plain": [
       "Así es como se utiliza una operación aritmética básica en Python"
      ]
     },
     "execution_count": 10,
     "metadata": {},
     "output_type": "execute_result"
    }
   ],
   "source": [
    "#Ejemplo de operaciones aritméticas\n",
    "#Para realizar una multiplicación utilizamos el símbolo * \n",
    "#Por ejemplo 10 * 10 nos entregaría el resultado de 100\n",
    "#10*10 = 100, y si queremos sumarle 10, a ese 100 le agregamos + y el numero 10\n",
    "#Quedando: 10 * 10 = 100 + 10 = 110\n"
   ]
  },
  {
   "cell_type": "code",
   "execution_count": 12,
   "id": "2f6ffc72-1a15-45e7-a06e-d5b2af53dead",
   "metadata": {},
   "outputs": [
    {
     "data": {
      "text/plain": [
       "Así podremos ver los datos de nuestro dataframe y algunas nociones básicas"
      ]
     },
     "execution_count": 12,
     "metadata": {},
     "output_type": "execute_result"
    }
   ],
   "source": [
    "#Ejemplo para convertir minutos a horas\n",
    "#Si se quiere saber cuántas horas hay en 500 minutos se realiza la siguiente operación:\n",
    "#500 / 60 \n",
    "#Quedando un resultado de 8,3 \n"
   ]
  },
  {
   "cell_type": "markdown",
   "id": "918d6da2-1715-4776-ad5c-5c127395d416",
   "metadata": {},
   "source": [
    "## Autor\n",
    "Victor Flores"
   ]
  },
  {
   "cell_type": "code",
   "execution_count": null,
   "id": "b2e4aaa5-2536-4ba8-ab43-c02f41cde2ca",
   "metadata": {},
   "outputs": [],
   "source": []
  }
 ],
 "metadata": {
  "kernelspec": {
   "display_name": "Python [conda env:base] *",
   "language": "python",
   "name": "conda-base-py"
  },
  "language_info": {
   "codemirror_mode": {
    "name": "ipython",
    "version": 3
   },
   "file_extension": ".py",
   "mimetype": "text/x-python",
   "name": "python",
   "nbconvert_exporter": "python",
   "pygments_lexer": "ipython3",
   "version": "3.12.7"
  }
 },
 "nbformat": 4,
 "nbformat_minor": 5
}
